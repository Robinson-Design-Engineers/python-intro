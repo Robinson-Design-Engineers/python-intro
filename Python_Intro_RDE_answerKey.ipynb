{
 "cells": [
  {
   "cell_type": "markdown",
   "metadata": {},
   "source": [
    "# Starting out with scientific Python and notebooks\n",
    "Created by Kyle Strom, edited by Sam Kraus. For further/expanded practice, see here: https://github.com/kstrm/Starting-out-with-python.git. \n",
    "<br>\n",
    "<br>\n",
    "\n",
    "Note: [ChatGPT](https://chatgpt.com/) and other AI can be very, very useful when troubleshooting code or looking up specific syntax. They are good tools, not necessarily replacements."
   ]
  },
  {
   "cell_type": "markdown",
   "metadata": {
    "id": "RMV-Lp3vOpo4"
   },
   "source": [
    "## Cell types\n",
    "\n",
    "There are two basic cell types in notebooks\n",
    "1. Markdown cells, and\n",
    "2. Code cells\n",
    "\n",
    "### Markdown Cells \n",
    "\n",
    "- Good for writting. Can use standard Markdown formatting (Google if you don't know how to use Markdown)\n",
    "- Can use LaTeX formatting for equation (the notebook uses MathJax)\n",
    "\n",
    "For example. Here is an equation inline: $F = ma$. And, here's an equation in display form:\n",
    "\n",
    "$$ E = \\frac{V^2}{2g}+y $$\n",
    "\n",
    "You can also use standard LaTex \"equation environment\" in:\n",
    "\n",
    "\\begin{equation}\n",
    "\\frac{\\partial (AC)}{\\partial t}+\\frac{\\partial (AUC)}{\\partial x}=\\frac{\\partial}{\\partial x}\\left(AD\\frac{\\partial C}{\\partial x}\\right) +  b \\left(E_b - D_b \\right)\n",
    "\\end{equation}\n",
    "\n",
    "Equation reference in markdown is not yet available."
   ]
  },
  {
   "cell_type": "markdown",
   "metadata": {},
   "source": [
    "You can view the \"raw guts\" of a Markdown cell by double-clicking them. Try it with the above cell^. When looking at math or equations in Markdown, \"$$\" can be used to bracket text that will be in math format. This is very similar, if not the same, as LaTeX format."
   ]
  },
  {
   "cell_type": "markdown",
   "metadata": {
    "id": "wvZ3AvCmOpo4"
   },
   "source": [
    "### Code Cells\n",
    "\n",
    "\"Code\" cell block are where the computations are actually performed. Before we get going with code, we'll need to load a few libraries."
   ]
  },
  {
   "cell_type": "markdown",
   "metadata": {
    "id": "UyZgszEC7LT-"
   },
   "source": [
    "## Loads: different ways to get access to what you need\n",
    "\n",
    "Try typing 5+5 and executing the cell, then type \"pi\" or \"sin(pi)\" and execute. (Hint: pi and sin(pi) will not work these two cells)"
   ]
  },
  {
   "cell_type": "code",
   "execution_count": 1,
   "metadata": {},
   "outputs": [
    {
     "data": {
      "text/plain": [
       "10"
      ]
     },
     "execution_count": 1,
     "metadata": {},
     "output_type": "execute_result"
    }
   ],
   "source": [
    "5+5"
   ]
  },
  {
   "cell_type": "code",
   "execution_count": 2,
   "metadata": {},
   "outputs": [
    {
     "ename": "NameError",
     "evalue": "name 'pi' is not defined",
     "output_type": "error",
     "traceback": [
      "\u001b[0;31m---------------------------------------------------------------------------\u001b[0m",
      "\u001b[0;31mNameError\u001b[0m                                 Traceback (most recent call last)",
      "Cell \u001b[0;32mIn[2], line 1\u001b[0m\n\u001b[0;32m----> 1\u001b[0m \u001b[43mpi\u001b[49m\n",
      "\u001b[0;31mNameError\u001b[0m: name 'pi' is not defined"
     ]
    }
   ],
   "source": [
    "pi"
   ]
  },
  {
   "cell_type": "code",
   "execution_count": 3,
   "metadata": {},
   "outputs": [
    {
     "ename": "NameError",
     "evalue": "name 'sin' is not defined",
     "output_type": "error",
     "traceback": [
      "\u001b[0;31m---------------------------------------------------------------------------\u001b[0m",
      "\u001b[0;31mNameError\u001b[0m                                 Traceback (most recent call last)",
      "Cell \u001b[0;32mIn[3], line 1\u001b[0m\n\u001b[0;32m----> 1\u001b[0m \u001b[43msin\u001b[49m(pi)\n",
      "\u001b[0;31mNameError\u001b[0m: name 'sin' is not defined"
     ]
    }
   ],
   "source": [
    "sin(pi)"
   ]
  },
  {
   "cell_type": "markdown",
   "metadata": {},
   "source": [
    "As you can see, ```pi``` or ```sin``` are not available for use in standard base Python. That is, ```pi``` and ```sin``` don't necessarily mean anything on their own. They are just letters that you might use to define a variable.  To use them as mathematical operators you need to import libraries where these are specifically defined operations and values. The most common library for most scientific calculations is called [NumPy](https://numpy.org/). We need to load this to get access to common mathematical operations and other backbone components of scientific computing. Python has some built-in operators like ```+, -, /, *, **```. Most other things require something like NumPy.\n",
    "\n",
    "There are different ways to load NumPy and other libraries to gain access. Here are some examples:\n",
    "\n",
    "### Method 1a"
   ]
  },
  {
   "cell_type": "code",
   "execution_count": 4,
   "metadata": {},
   "outputs": [
    {
     "data": {
      "text/plain": [
       "np.float64(1.2246467991473532e-16)"
      ]
     },
     "execution_count": 4,
     "metadata": {},
     "output_type": "execute_result"
    }
   ],
   "source": [
    "import numpy as np\n",
    "\n",
    "# now we can try taking the sin of pi by using np to refer to the numpy library and .pi and .sin as \n",
    "# the attributes of numpy called pi and sin\n",
    "\n",
    "np.sin(np.pi)"
   ]
  },
  {
   "cell_type": "markdown",
   "metadata": {},
   "source": [
    "### Method 1b\n",
    "Here we load all of numpy as np, but then add some stuff directly so that we don't need the np. This is more of a personal preference choice. You can begin with \"np.\" each time too."
   ]
  },
  {
   "cell_type": "code",
   "execution_count": 5,
   "metadata": {
    "id": "yhSiWvla7Qpg"
   },
   "outputs": [
    {
     "data": {
      "text/plain": [
       "np.float64(1.2246467991473532e-16)"
      ]
     },
     "execution_count": 5,
     "metadata": {},
     "output_type": "execute_result"
    }
   ],
   "source": [
    "import numpy as np\n",
    "from numpy import pi, sin\n",
    "\n",
    "# type just sin(pi) below:\n",
    "sin(pi)"
   ]
  },
  {
   "cell_type": "markdown",
   "metadata": {},
   "source": [
    "### Method 2 (the WRONG but easier way)\n",
    "This method is okay for starting out. However, its good to move away from it in time. You can use ```%pylab``` to imports a bunch of stuff from numpy and matplotlib and make it easily accessible."
   ]
  },
  {
   "cell_type": "code",
   "execution_count": 6,
   "metadata": {
    "id": "M-0Q1L7dOpo5"
   },
   "outputs": [
    {
     "name": "stdout",
     "output_type": "stream",
     "text": [
      "%pylab is deprecated, use %matplotlib inline and import the required libraries.\n",
      "Populating the interactive namespace from numpy and matplotlib\n"
     ]
    }
   ],
   "source": [
    "# the bulk bad form to do loads\n",
    "%pylab inline"
   ]
  },
  {
   "cell_type": "markdown",
   "metadata": {},
   "source": [
    "### Other loads"
   ]
  },
  {
   "cell_type": "code",
   "execution_count": 7,
   "metadata": {},
   "outputs": [],
   "source": [
    "# for interactive plotting we use the following:\n",
    "# %matplotlib widget  # Will not work with Google Colab\n",
    "from matplotlib import pyplot as plt # should work in Jupyter notebooks whether in Colab or not\n",
    "\n",
    "# %config InlineBackend.figure_format='retina' # uncomment if you have a retina display... comment out when printing to pdf\n",
    "import pandas as pd # will need for dataframes\n",
    "from scipy.optimize import fsolve # will need for solver"
   ]
  },
  {
   "cell_type": "markdown",
   "metadata": {},
   "source": [
    "## Variables and foundational types of data\n",
    "\n",
    "### Variables\n",
    "\n",
    "Variables are short hand names for different types of data that we can refer to later. Once you define a variable in a Jupyter notebook cell, it will carry its definition through the rest of the notebook. However, this does not hold true WITHIN function (more on that later)."
   ]
  },
  {
   "cell_type": "code",
   "execution_count": 8,
   "metadata": {},
   "outputs": [
    {
     "data": {
      "text/plain": [
       "8"
      ]
     },
     "execution_count": 8,
     "metadata": {},
     "output_type": "execute_result"
    }
   ],
   "source": [
    "var = 8\n",
    "var"
   ]
  },
  {
   "cell_type": "markdown",
   "metadata": {},
   "source": [
    "### Strings"
   ]
  },
  {
   "cell_type": "code",
   "execution_count": 9,
   "metadata": {},
   "outputs": [
    {
     "data": {
      "text/plain": [
       "'Hello world'"
      ]
     },
     "execution_count": 9,
     "metadata": {},
     "output_type": "execute_result"
    }
   ],
   "source": [
    "var = 'Hello world'\n",
    "var"
   ]
  },
  {
   "cell_type": "markdown",
   "metadata": {},
   "source": [
    "### Floats and integers"
   ]
  },
  {
   "cell_type": "markdown",
   "metadata": {},
   "source": [
    "what if ```var = 1```?"
   ]
  },
  {
   "cell_type": "code",
   "execution_count": 11,
   "metadata": {},
   "outputs": [
    {
     "data": {
      "text/plain": [
       "1"
      ]
     },
     "execution_count": 11,
     "metadata": {},
     "output_type": "execute_result"
    }
   ],
   "source": [
    "var=1\n",
    "var"
   ]
  },
  {
   "cell_type": "markdown",
   "metadata": {},
   "source": [
    "Now try ```var = 1.5```"
   ]
  },
  {
   "cell_type": "code",
   "execution_count": 12,
   "metadata": {},
   "outputs": [
    {
     "data": {
      "text/plain": [
       "1.5"
      ]
     },
     "execution_count": 12,
     "metadata": {},
     "output_type": "execute_result"
    }
   ],
   "source": [
    "var=1.5\n",
    "var"
   ]
  },
  {
   "cell_type": "markdown",
   "metadata": {},
   "source": [
    "What happens when ```var = 1.```?"
   ]
  },
  {
   "cell_type": "code",
   "execution_count": 13,
   "metadata": {},
   "outputs": [
    {
     "data": {
      "text/plain": [
       "1.0"
      ]
     },
     "execution_count": 13,
     "metadata": {},
     "output_type": "execute_result"
    }
   ],
   "source": [
    "var=1.\n",
    "var"
   ]
  },
  {
   "cell_type": "markdown",
   "metadata": {},
   "source": [
    "## Commenting\n",
    "\n",
    "Notice what the ```#``` mark does in a code block"
   ]
  },
  {
   "cell_type": "code",
   "execution_count": 14,
   "metadata": {},
   "outputs": [
    {
     "data": {
      "text/plain": [
       "2.0"
      ]
     },
     "execution_count": 14,
     "metadata": {},
     "output_type": "execute_result"
    }
   ],
   "source": [
    "2*var"
   ]
  },
  {
   "cell_type": "code",
   "execution_count": 15,
   "metadata": {},
   "outputs": [],
   "source": [
    "# 2*var"
   ]
  },
  {
   "cell_type": "markdown",
   "metadata": {},
   "source": [
    "You can toggle a line of code off any on by placing or removing ```#``` in front of the code. The keyboard shortcut for this in Mac is ```cmd+/``` and in Windows is ```ctrl+/```. Comments can be in the same line as code, but anything following the \"#\" will be comment and not run as code."
   ]
  },
  {
   "cell_type": "markdown",
   "metadata": {
    "id": "hl2EHHtiOpo8"
   },
   "source": [
    "## Arrays\n",
    "\n",
    "Arrays are very generic containers for numbers and strings. You can think of an array as a row or column from a spreadsheet (1D), the rows and columns of a spreadsheet (2D), or any number of multidimentional object with arrays within arrays within arrays. Arrays provide the backbone for most scientific operations. Below we will work with a basic one dimensional arrays. For more on Numpy arrays see - [A Visual Intro to NumPy and Data Representation](https://jalammar.github.io/visual-numpy/).\n",
    "<br>\n",
    "<br>\n",
    "REMEMBER: arrays in Python start counting from zero, not one!"
   ]
  },
  {
   "cell_type": "code",
   "execution_count": 16,
   "metadata": {},
   "outputs": [],
   "source": [
    "# let's define a variable \"N\" as 10:\n",
    "N = 10"
   ]
  },
  {
   "cell_type": "code",
   "execution_count": 17,
   "metadata": {},
   "outputs": [
    {
     "data": {
      "text/plain": [
       "array([ 1.,  2.,  3.,  4.,  5.,  6.,  7.,  8.,  9., 10.])"
      ]
     },
     "execution_count": 17,
     "metadata": {},
     "output_type": "execute_result"
    }
   ],
   "source": [
    "x = np.linspace(1,10,N) # np.linspace() produces an array with N number of elements evenly spaced from 1 to 10... float points\n",
    "x"
   ]
  },
  {
   "cell_type": "code",
   "execution_count": 18,
   "metadata": {},
   "outputs": [
    {
     "data": {
      "text/plain": [
       "array([0., 0., 0., 0., 0., 0., 0., 0., 0., 0.])"
      ]
     },
     "execution_count": 18,
     "metadata": {},
     "output_type": "execute_result"
    }
   ],
   "source": [
    "x = np.zeros(N) # np.zeros() produces an array with N elements... floating point... all zeros\n",
    "x"
   ]
  },
  {
   "cell_type": "code",
   "execution_count": 19,
   "metadata": {},
   "outputs": [
    {
     "data": {
      "text/plain": [
       "array([0, 1, 2, 3, 4, 5, 6, 7, 8, 9])"
      ]
     },
     "execution_count": 19,
     "metadata": {},
     "output_type": "execute_result"
    }
   ],
   "source": [
    "x = np.arange(N) # np.arange() produces an array with N elements... integers by default\n",
    "x"
   ]
  },
  {
   "cell_type": "code",
   "execution_count": 20,
   "metadata": {},
   "outputs": [
    {
     "data": {
      "text/plain": [
       "array([ 0,  2,  4,  6,  8, 10, 12, 14, 16, 18])"
      ]
     },
     "execution_count": 20,
     "metadata": {},
     "output_type": "execute_result"
    }
   ],
   "source": [
    "x = np.arange(0,20,2) # np.arange() produces an array with N elements... at a specified interval \n",
    "x"
   ]
  },
  {
   "cell_type": "markdown",
   "metadata": {},
   "source": [
    "Now let's try indexing the arrays. Indices are not values in the array, but instead their positions. When indexing you can use commas between indices, or index a range with a colon. When indexing a range, the first index is inclusive and the second index is exclusive."
   ]
  },
  {
   "cell_type": "code",
   "execution_count": 21,
   "metadata": {},
   "outputs": [
    {
     "data": {
      "text/plain": [
       "array([ 2,  4,  6,  8, 10, 12, 14, 16, 18])"
      ]
     },
     "execution_count": 21,
     "metadata": {},
     "output_type": "execute_result"
    }
   ],
   "source": [
    "x[1:]"
   ]
  },
  {
   "cell_type": "code",
   "execution_count": 22,
   "metadata": {},
   "outputs": [
    {
     "data": {
      "text/plain": [
       "array([ 0,  2,  4,  6,  8, 10, 12, 14, 16])"
      ]
     },
     "execution_count": 22,
     "metadata": {},
     "output_type": "execute_result"
    }
   ],
   "source": [
    "x[:-1]"
   ]
  },
  {
   "cell_type": "code",
   "execution_count": 23,
   "metadata": {},
   "outputs": [
    {
     "data": {
      "text/plain": [
       "array([4, 6, 8])"
      ]
     },
     "execution_count": 23,
     "metadata": {},
     "output_type": "execute_result"
    }
   ],
   "source": [
    "x[2:5]"
   ]
  },
  {
   "cell_type": "code",
   "execution_count": 24,
   "metadata": {},
   "outputs": [
    {
     "data": {
      "text/plain": [
       "array([2, 2, 2, 2, 2, 2, 2, 2, 2])"
      ]
     },
     "execution_count": 24,
     "metadata": {},
     "output_type": "execute_result"
    }
   ],
   "source": [
    "dx = x[1:]-x[:-1] # note... this will produce an array with 9 points made up of the difference x[i+1]-x[i]\n",
    "dx"
   ]
  },
  {
   "cell_type": "markdown",
   "metadata": {},
   "source": [
    "Now your turn to try:"
   ]
  },
  {
   "cell_type": "code",
   "execution_count": 25,
   "metadata": {},
   "outputs": [
    {
     "name": "stdout",
     "output_type": "stream",
     "text": [
      "x = \n",
      " [ 0.          0.31733259  0.63466518  0.95199777  1.26933037  1.58666296\n",
      "  1.90399555  2.22132814  2.53866073  2.85599332  3.17332591  3.4906585\n",
      "  3.8079911   4.12532369  4.44265628  4.75998887  5.07732146  5.39465405\n",
      "  5.71198664  6.02931923  6.34665183  6.66398442  6.98131701  7.2986496\n",
      "  7.61598219  7.93331478  8.25064737  8.56797996  8.88531256  9.20264515\n",
      "  9.51997774  9.83731033 10.15464292 10.47197551 10.7893081  11.10664069\n",
      " 11.42397329 11.74130588 12.05863847 12.37597106 12.69330365 13.01063624\n",
      " 13.32796883 13.64530142 13.96263402 14.27996661 14.5972992  14.91463179\n",
      " 15.23196438 15.54929697 15.86662956 16.18396215 16.50129475 16.81862734\n",
      " 17.13595993 17.45329252 17.77062511 18.0879577  18.40529029 18.72262289\n",
      " 19.03995548 19.35728807 19.67462066 19.99195325 20.30928584 20.62661843\n",
      " 20.94395102 21.26128362 21.57861621 21.8959488  22.21328139 22.53061398\n",
      " 22.84794657 23.16527916 23.48261175 23.79994435 24.11727694 24.43460953\n",
      " 24.75194212 25.06927471 25.3866073  25.70393989 26.02127248 26.33860508\n",
      " 26.65593767 26.97327026 27.29060285 27.60793544 27.92526803 28.24260062\n",
      " 28.55993321 28.87726581 29.1945984  29.51193099 29.82926358 30.14659617\n",
      " 30.46392876 30.78126135 31.09859394 31.41592654]\n"
     ]
    }
   ],
   "source": [
    "# 100 pt array that ranges from 0 to 10*pi in even increments (float)\n",
    "x = np.linspace(0,10*pi,100)\n",
    "print('x = \\n', x)"
   ]
  },
  {
   "cell_type": "code",
   "execution_count": 26,
   "metadata": {
    "id": "qouJKTu8Opo8"
   },
   "outputs": [
    {
     "name": "stdout",
     "output_type": "stream",
     "text": [
      "xint = \n",
      " [ 0  1  2  3  4  5  6  7  8  9 10 11 12 13 14 15 16 17 18 19 20 21 22 23\n",
      " 24 25 26 27 28 29 30 31 32 33 34 35 36 37 38 39 40 41 42 43 44 45 46 47\n",
      " 48 49 50 51 52 53 54 55 56 57 58 59 60 61 62 63 64 65 66 67 68 69 70 71\n",
      " 72 73 74 75 76 77 78 79 80 81 82 83 84 85 86 87 88 89 90 91 92 93 94 95\n",
      " 96 97 98 99]\n"
     ]
    }
   ],
   "source": [
    "# 100 pt array of integers ranging from 0 to 100 minus 1\n",
    "xint = np.arange(0,100,1) # can also use xint = np.arange(100)\n",
    "print('xint = \\n', xint)"
   ]
  },
  {
   "cell_type": "code",
   "execution_count": 29,
   "metadata": {
    "id": "9GHwf_9vOpo-"
   },
   "outputs": [
    {
     "data": {
      "text/plain": [
       "array([0.        , 0.31733259, 0.63466518])"
      ]
     },
     "execution_count": 29,
     "metadata": {},
     "output_type": "execute_result"
    }
   ],
   "source": [
    "# returns the x values from spots 0, 1, 2 in the array\n",
    "x[[0,1,2]]"
   ]
  },
  {
   "cell_type": "code",
   "execution_count": 30,
   "metadata": {
    "id": "RwAnwwnPOppA"
   },
   "outputs": [
    {
     "data": {
      "text/plain": [
       "array([0, 1, 2])"
      ]
     },
     "execution_count": 30,
     "metadata": {},
     "output_type": "execute_result"
    }
   ],
   "source": [
    "# returns the xint values from spots 0, 1, 2 in the array\n",
    "xint[0:3]"
   ]
  },
  {
   "cell_type": "code",
   "execution_count": 31,
   "metadata": {
    "id": "8ppiqvY1OppC"
   },
   "outputs": [],
   "source": [
    "# create y1 as being the sin of x\n",
    "y1 = np.sin(x)\n",
    "# create y2 as y1 * xint\n",
    "y2 = y1*xint\n",
    "# create y3 as x^2: Note: Python syntax requires \"**\" for exponents, rather than \"^\".\n",
    "y3 = x**2"
   ]
  },
  {
   "cell_type": "markdown",
   "metadata": {},
   "source": [
    "You will notice in this notebook that variations of ```print()```, ```display()```, and simply typing the variable on the cell's last line are used to print the variable's value(s). \n",
    "- ```display()``` is used primarily for dataframes and can ensure the dataframes will print with column names in a tabular format.\n",
    "- ```print()``` will pretty much print anything. \n",
    "- Simply typing a variable name on the last line and executing a code cell will also display a variable's value(s), but it has to be on the cell's last line. ```print()``` and ```display()``` do not have to be on the last line of the cell."
   ]
  },
  {
   "cell_type": "markdown",
   "metadata": {},
   "source": [
    "## For Loops\n",
    "\n",
    "For loops take a defined set of things, iterates through them, names each iteration, each thing of the set as a variable, then opearates the same lines of code for each iteration. Usually this is iterating through an array or a range, naming each iteration as ```i```, then operating on ```i```. Or ```i``` could be an index in the range of an array's length. This can vary widely. After the first line of a for loop, an indent is used to keep everything in line within the loop. More can be found [here](https://www.w3schools.com/python/python_for_loops.asp)."
   ]
  },
  {
   "cell_type": "code",
   "execution_count": 32,
   "metadata": {},
   "outputs": [
    {
     "name": "stdout",
     "output_type": "stream",
     "text": [
      "We will iterate through:  range(0, 10)\n"
     ]
    }
   ],
   "source": [
    "# create a sequence of something to iterate through:\n",
    "print('We will iterate through: ', range(0,N))"
   ]
  },
  {
   "cell_type": "code",
   "execution_count": 33,
   "metadata": {},
   "outputs": [
    {
     "name": "stdout",
     "output_type": "stream",
     "text": [
      "0\n",
      "1\n",
      "2\n",
      "3\n",
      "4\n",
      "5\n",
      "6\n",
      "7\n",
      "8\n",
      "9\n"
     ]
    }
   ],
   "source": [
    "# a basic for loop structure \n",
    "\n",
    "for i in range(0,N): # note... the loop will stop one index before N since i would be out of range if i = N\n",
    "    print(i)"
   ]
  },
  {
   "cell_type": "code",
   "execution_count": 34,
   "metadata": {},
   "outputs": [
    {
     "data": {
      "text/plain": [
       "array([ 0.,  2.,  4.,  6.,  8., 10., 12., 14., 16., 18.])"
      ]
     },
     "execution_count": 34,
     "metadata": {},
     "output_type": "execute_result"
    }
   ],
   "source": [
    "# perform a simple operation each loop iteration\n",
    "x_new = np.zeros(N)\n",
    "\n",
    "for i in range(0,N):\n",
    "    x_new[i] = i*2\n",
    "\n",
    "x_new"
   ]
  },
  {
   "cell_type": "markdown",
   "metadata": {},
   "source": [
    "## Dataframes"
   ]
  },
  {
   "cell_type": "markdown",
   "metadata": {},
   "source": [
    "Dataframes are large multi-dimensional arrays of different datatypes, with indexed rows and named columns. Let's make a [Pandas](https://pandas.pydata.org/) dataframe from scratch - as opposed to loading it in from a csv file."
   ]
  },
  {
   "cell_type": "code",
   "execution_count": 35,
   "metadata": {},
   "outputs": [
    {
     "data": {
      "application/vnd.microsoft.datawrangler.viewer.v0+json": {
       "columns": [
        {
         "name": "index",
         "rawType": "int64",
         "type": "integer"
        },
        {
         "name": "Org",
         "rawType": "object",
         "type": "string"
        },
        {
         "name": "Gage",
         "rawType": "int64",
         "type": "integer"
        },
        {
         "name": "Date",
         "rawType": "object",
         "type": "string"
        },
        {
         "name": "Time",
         "rawType": "object",
         "type": "string"
        },
        {
         "name": "Zone",
         "rawType": "object",
         "type": "string"
        },
        {
         "name": "Q_cfs",
         "rawType": "int64",
         "type": "integer"
        },
        {
         "name": "Type",
         "rawType": "object",
         "type": "string"
        },
        {
         "name": "DateTime",
         "rawType": "object",
         "type": "string"
        }
       ],
       "ref": "1430457e-55b7-47db-a27c-6a4216a6232e",
       "rows": [
        [
         "0",
         "USGS",
         "3171000",
         "2021-06-24",
         "4:15",
         "EDT",
         "1000",
         "A",
         "2021-06-24 4:15"
        ],
        [
         "1",
         "USGS",
         "3171000",
         "2021-06-24",
         "4:30",
         "EDT",
         "1300",
         "A",
         "2021-06-24 4:30"
        ],
        [
         "2",
         "USGS",
         "3171000",
         "2021-06-24",
         "4:45",
         "EDT",
         "2000",
         "A",
         "2021-06-24 4:45"
        ],
        [
         "3",
         "USGS",
         "3171000",
         "2021-06-24",
         "5:00",
         "EDT",
         "1500",
         "A",
         "2021-06-24 5:00"
        ],
        [
         "4",
         "USGS",
         "3171000",
         "2021-06-24",
         "5:15",
         "EDT",
         "1200",
         "A",
         "2021-06-24 5:15"
        ]
       ],
       "shape": {
        "columns": 8,
        "rows": 5
       }
      },
      "text/html": [
       "<div>\n",
       "<style scoped>\n",
       "    .dataframe tbody tr th:only-of-type {\n",
       "        vertical-align: middle;\n",
       "    }\n",
       "\n",
       "    .dataframe tbody tr th {\n",
       "        vertical-align: top;\n",
       "    }\n",
       "\n",
       "    .dataframe thead th {\n",
       "        text-align: right;\n",
       "    }\n",
       "</style>\n",
       "<table border=\"1\" class=\"dataframe\">\n",
       "  <thead>\n",
       "    <tr style=\"text-align: right;\">\n",
       "      <th></th>\n",
       "      <th>Org</th>\n",
       "      <th>Gage</th>\n",
       "      <th>Date</th>\n",
       "      <th>Time</th>\n",
       "      <th>Zone</th>\n",
       "      <th>Q_cfs</th>\n",
       "      <th>Type</th>\n",
       "      <th>DateTime</th>\n",
       "    </tr>\n",
       "  </thead>\n",
       "  <tbody>\n",
       "    <tr>\n",
       "      <th>0</th>\n",
       "      <td>USGS</td>\n",
       "      <td>3171000</td>\n",
       "      <td>2021-06-24</td>\n",
       "      <td>4:15</td>\n",
       "      <td>EDT</td>\n",
       "      <td>1000</td>\n",
       "      <td>A</td>\n",
       "      <td>2021-06-24 4:15</td>\n",
       "    </tr>\n",
       "    <tr>\n",
       "      <th>1</th>\n",
       "      <td>USGS</td>\n",
       "      <td>3171000</td>\n",
       "      <td>2021-06-24</td>\n",
       "      <td>4:30</td>\n",
       "      <td>EDT</td>\n",
       "      <td>1300</td>\n",
       "      <td>A</td>\n",
       "      <td>2021-06-24 4:30</td>\n",
       "    </tr>\n",
       "    <tr>\n",
       "      <th>2</th>\n",
       "      <td>USGS</td>\n",
       "      <td>3171000</td>\n",
       "      <td>2021-06-24</td>\n",
       "      <td>4:45</td>\n",
       "      <td>EDT</td>\n",
       "      <td>2000</td>\n",
       "      <td>A</td>\n",
       "      <td>2021-06-24 4:45</td>\n",
       "    </tr>\n",
       "    <tr>\n",
       "      <th>3</th>\n",
       "      <td>USGS</td>\n",
       "      <td>3171000</td>\n",
       "      <td>2021-06-24</td>\n",
       "      <td>5:00</td>\n",
       "      <td>EDT</td>\n",
       "      <td>1500</td>\n",
       "      <td>A</td>\n",
       "      <td>2021-06-24 5:00</td>\n",
       "    </tr>\n",
       "    <tr>\n",
       "      <th>4</th>\n",
       "      <td>USGS</td>\n",
       "      <td>3171000</td>\n",
       "      <td>2021-06-24</td>\n",
       "      <td>5:15</td>\n",
       "      <td>EDT</td>\n",
       "      <td>1200</td>\n",
       "      <td>A</td>\n",
       "      <td>2021-06-24 5:15</td>\n",
       "    </tr>\n",
       "  </tbody>\n",
       "</table>\n",
       "</div>"
      ],
      "text/plain": [
       "    Org     Gage        Date  Time Zone  Q_cfs Type         DateTime\n",
       "0  USGS  3171000  2021-06-24  4:15  EDT   1000    A  2021-06-24 4:15\n",
       "1  USGS  3171000  2021-06-24  4:30  EDT   1300    A  2021-06-24 4:30\n",
       "2  USGS  3171000  2021-06-24  4:45  EDT   2000    A  2021-06-24 4:45\n",
       "3  USGS  3171000  2021-06-24  5:00  EDT   1500    A  2021-06-24 5:00\n",
       "4  USGS  3171000  2021-06-24  5:15  EDT   1200    A  2021-06-24 5:15"
      ]
     },
     "execution_count": 35,
     "metadata": {},
     "output_type": "execute_result"
    }
   ],
   "source": [
    "data = {\n",
    "    'Org': ['USGS'] * 5,\n",
    "    'Gage': [3171000] * 5,\n",
    "    'Date': ['2021-06-24'] * 5,\n",
    "    'Time': ['4:15', '4:30', '4:45', '5:00', '5:15'],\n",
    "    'Zone': ['EDT'] * 5,\n",
    "    'Q_cfs': [1000, 1300, 2000, 1500, 1200],\n",
    "    'Type': ['A'] * 5,\n",
    "    'DateTime': ['2021-06-24 4:15', '2021-06-24 4:30', '2021-06-24 4:45', '2021-06-24 5:00', '2021-06-24 5:15']\n",
    "}\n",
    "\n",
    "Q15_df = pd.DataFrame(data)\n",
    "\n",
    "Q15_df"
   ]
  },
  {
   "cell_type": "markdown",
   "metadata": {},
   "source": [
    "Let's take a look at the data type of each column:"
   ]
  },
  {
   "cell_type": "code",
   "execution_count": 36,
   "metadata": {},
   "outputs": [
    {
     "data": {
      "application/vnd.microsoft.datawrangler.viewer.v0+json": {
       "columns": [
        {
         "name": "index",
         "rawType": "object",
         "type": "string"
        },
        {
         "name": "0",
         "rawType": "object",
         "type": "unknown"
        }
       ],
       "ref": "29806682-c3ec-407a-922e-8e164a31f6ac",
       "rows": [
        [
         "Org",
         "object"
        ],
        [
         "Gage",
         "int64"
        ],
        [
         "Date",
         "object"
        ],
        [
         "Time",
         "object"
        ],
        [
         "Zone",
         "object"
        ],
        [
         "Q_cfs",
         "int64"
        ],
        [
         "Type",
         "object"
        ],
        [
         "DateTime",
         "object"
        ]
       ],
       "shape": {
        "columns": 1,
        "rows": 8
       }
      },
      "text/plain": [
       "Org         object\n",
       "Gage         int64\n",
       "Date        object\n",
       "Time        object\n",
       "Zone        object\n",
       "Q_cfs        int64\n",
       "Type        object\n",
       "DateTime    object\n",
       "dtype: object"
      ]
     },
     "execution_count": 36,
     "metadata": {},
     "output_type": "execute_result"
    }
   ],
   "source": [
    "Q15_df.dtypes"
   ]
  },
  {
   "cell_type": "markdown",
   "metadata": {},
   "source": [
    "Note that the DateTime column is just a text object. It would be great if we could change this to a date-time format."
   ]
  },
  {
   "cell_type": "code",
   "execution_count": 37,
   "metadata": {},
   "outputs": [
    {
     "data": {
      "application/vnd.microsoft.datawrangler.viewer.v0+json": {
       "columns": [
        {
         "name": "index",
         "rawType": "int64",
         "type": "integer"
        },
        {
         "name": "Org",
         "rawType": "object",
         "type": "string"
        },
        {
         "name": "Gage",
         "rawType": "int64",
         "type": "integer"
        },
        {
         "name": "Date",
         "rawType": "object",
         "type": "string"
        },
        {
         "name": "Time",
         "rawType": "object",
         "type": "string"
        },
        {
         "name": "Zone",
         "rawType": "object",
         "type": "string"
        },
        {
         "name": "Q_cfs",
         "rawType": "int64",
         "type": "integer"
        },
        {
         "name": "Type",
         "rawType": "object",
         "type": "string"
        },
        {
         "name": "DateTime",
         "rawType": "datetime64[ns]",
         "type": "datetime"
        }
       ],
       "ref": "28aa2378-bc52-4bd8-aa02-2a4a979e0dce",
       "rows": [
        [
         "0",
         "USGS",
         "3171000",
         "2021-06-24",
         "4:15",
         "EDT",
         "1000",
         "A",
         "2021-06-24 04:15:00"
        ],
        [
         "1",
         "USGS",
         "3171000",
         "2021-06-24",
         "4:30",
         "EDT",
         "1300",
         "A",
         "2021-06-24 04:30:00"
        ],
        [
         "2",
         "USGS",
         "3171000",
         "2021-06-24",
         "4:45",
         "EDT",
         "2000",
         "A",
         "2021-06-24 04:45:00"
        ],
        [
         "3",
         "USGS",
         "3171000",
         "2021-06-24",
         "5:00",
         "EDT",
         "1500",
         "A",
         "2021-06-24 05:00:00"
        ],
        [
         "4",
         "USGS",
         "3171000",
         "2021-06-24",
         "5:15",
         "EDT",
         "1200",
         "A",
         "2021-06-24 05:15:00"
        ]
       ],
       "shape": {
        "columns": 8,
        "rows": 5
       }
      },
      "text/html": [
       "<div>\n",
       "<style scoped>\n",
       "    .dataframe tbody tr th:only-of-type {\n",
       "        vertical-align: middle;\n",
       "    }\n",
       "\n",
       "    .dataframe tbody tr th {\n",
       "        vertical-align: top;\n",
       "    }\n",
       "\n",
       "    .dataframe thead th {\n",
       "        text-align: right;\n",
       "    }\n",
       "</style>\n",
       "<table border=\"1\" class=\"dataframe\">\n",
       "  <thead>\n",
       "    <tr style=\"text-align: right;\">\n",
       "      <th></th>\n",
       "      <th>Org</th>\n",
       "      <th>Gage</th>\n",
       "      <th>Date</th>\n",
       "      <th>Time</th>\n",
       "      <th>Zone</th>\n",
       "      <th>Q_cfs</th>\n",
       "      <th>Type</th>\n",
       "      <th>DateTime</th>\n",
       "    </tr>\n",
       "  </thead>\n",
       "  <tbody>\n",
       "    <tr>\n",
       "      <th>0</th>\n",
       "      <td>USGS</td>\n",
       "      <td>3171000</td>\n",
       "      <td>2021-06-24</td>\n",
       "      <td>4:15</td>\n",
       "      <td>EDT</td>\n",
       "      <td>1000</td>\n",
       "      <td>A</td>\n",
       "      <td>2021-06-24 04:15:00</td>\n",
       "    </tr>\n",
       "    <tr>\n",
       "      <th>1</th>\n",
       "      <td>USGS</td>\n",
       "      <td>3171000</td>\n",
       "      <td>2021-06-24</td>\n",
       "      <td>4:30</td>\n",
       "      <td>EDT</td>\n",
       "      <td>1300</td>\n",
       "      <td>A</td>\n",
       "      <td>2021-06-24 04:30:00</td>\n",
       "    </tr>\n",
       "    <tr>\n",
       "      <th>2</th>\n",
       "      <td>USGS</td>\n",
       "      <td>3171000</td>\n",
       "      <td>2021-06-24</td>\n",
       "      <td>4:45</td>\n",
       "      <td>EDT</td>\n",
       "      <td>2000</td>\n",
       "      <td>A</td>\n",
       "      <td>2021-06-24 04:45:00</td>\n",
       "    </tr>\n",
       "    <tr>\n",
       "      <th>3</th>\n",
       "      <td>USGS</td>\n",
       "      <td>3171000</td>\n",
       "      <td>2021-06-24</td>\n",
       "      <td>5:00</td>\n",
       "      <td>EDT</td>\n",
       "      <td>1500</td>\n",
       "      <td>A</td>\n",
       "      <td>2021-06-24 05:00:00</td>\n",
       "    </tr>\n",
       "    <tr>\n",
       "      <th>4</th>\n",
       "      <td>USGS</td>\n",
       "      <td>3171000</td>\n",
       "      <td>2021-06-24</td>\n",
       "      <td>5:15</td>\n",
       "      <td>EDT</td>\n",
       "      <td>1200</td>\n",
       "      <td>A</td>\n",
       "      <td>2021-06-24 05:15:00</td>\n",
       "    </tr>\n",
       "  </tbody>\n",
       "</table>\n",
       "</div>"
      ],
      "text/plain": [
       "    Org     Gage        Date  Time Zone  Q_cfs Type            DateTime\n",
       "0  USGS  3171000  2021-06-24  4:15  EDT   1000    A 2021-06-24 04:15:00\n",
       "1  USGS  3171000  2021-06-24  4:30  EDT   1300    A 2021-06-24 04:30:00\n",
       "2  USGS  3171000  2021-06-24  4:45  EDT   2000    A 2021-06-24 04:45:00\n",
       "3  USGS  3171000  2021-06-24  5:00  EDT   1500    A 2021-06-24 05:00:00\n",
       "4  USGS  3171000  2021-06-24  5:15  EDT   1200    A 2021-06-24 05:15:00"
      ]
     },
     "metadata": {},
     "output_type": "display_data"
    }
   ],
   "source": [
    "Q15_df['DateTime'] = pd.to_datetime(Q15_df['DateTime'], format='%Y-%m-%d %H:%M')\n",
    "display(Q15_df)"
   ]
  },
  {
   "cell_type": "code",
   "execution_count": 38,
   "metadata": {},
   "outputs": [
    {
     "data": {
      "application/vnd.microsoft.datawrangler.viewer.v0+json": {
       "columns": [
        {
         "name": "index",
         "rawType": "object",
         "type": "string"
        },
        {
         "name": "0",
         "rawType": "object",
         "type": "unknown"
        }
       ],
       "ref": "495482c3-a861-4b32-94e9-e2b23e7b36a5",
       "rows": [
        [
         "Org",
         "object"
        ],
        [
         "Gage",
         "int64"
        ],
        [
         "Date",
         "object"
        ],
        [
         "Time",
         "object"
        ],
        [
         "Zone",
         "object"
        ],
        [
         "Q_cfs",
         "int64"
        ],
        [
         "Type",
         "object"
        ],
        [
         "DateTime",
         "datetime64[ns]"
        ]
       ],
       "shape": {
        "columns": 1,
        "rows": 8
       }
      },
      "text/plain": [
       "Org                 object\n",
       "Gage                 int64\n",
       "Date                object\n",
       "Time                object\n",
       "Zone                object\n",
       "Q_cfs                int64\n",
       "Type                object\n",
       "DateTime    datetime64[ns]\n",
       "dtype: object"
      ]
     },
     "execution_count": 38,
     "metadata": {},
     "output_type": "execute_result"
    }
   ],
   "source": [
    "Q15_df.dtypes"
   ]
  },
  {
   "cell_type": "markdown",
   "metadata": {},
   "source": [
    "Now we have a unique date and time associated with each discharge value."
   ]
  },
  {
   "cell_type": "markdown",
   "metadata": {
    "id": "HJaBYF0wOppE"
   },
   "source": [
    "## Plotting\n",
    "\n",
    "Let's plot some data we created earlier:"
   ]
  },
  {
   "cell_type": "code",
   "execution_count": 44,
   "metadata": {
    "id": "zguTk7f3OppE"
   },
   "outputs": [
    {
     "data": {
      "image/png": "[encoded data removed]",
      "text/plain": [
       "<Figure size 640x480 with 1 Axes>"
      ]
     },
     "metadata": {},
     "output_type": "display_data"
    }
   ],
   "source": [
    "# plot y1 vs x\n",
    "\n",
    "fig,ax = plt.subplots()\n",
    "ax.plot(x,y1)\n",
    "ax.set_xlabel('x')\n",
    "ax.set_ylabel('y'); # this semicolon keeps some unnecessary text from printing - feel free to try running without it"
   ]
  },
  {
   "cell_type": "markdown",
   "metadata": {},
   "source": [
    "Now try plotting the following based on each cell's comments:"
   ]
  },
  {
   "cell_type": "code",
   "execution_count": 45,
   "metadata": {
    "id": "b_Cjxqb4OppH"
   },
   "outputs": [
    {
     "data": {
      "image/png": "[encoded data removed]",
      "text/plain": [
       "<Figure size 640x480 with 1 Axes>"
      ]
     },
     "metadata": {},
     "output_type": "display_data"
    }
   ],
   "source": [
    "# plot y2 vs x\n",
    "fig,ax = plt.subplots()\n",
    "ax.plot(x,y2)\n",
    "ax.set_xlabel('x')\n",
    "ax.set_ylabel('y')\n",
    "plt.show() # plt.show() is a way to ensure the plot is printed\n",
    "plt.close() # plt.close() tells the computer you're done with this plot, any future plots won't get confused"
   ]
  },
  {
   "cell_type": "code",
   "execution_count": 46,
   "metadata": {
    "id": "OYUNI8hnOppJ"
   },
   "outputs": [
    {
     "data": {
      "image/png": "[encoded data removed]",
      "text/plain": [
       "<Figure size 640x480 with 1 Axes>"
      ]
     },
     "metadata": {},
     "output_type": "display_data"
    }
   ],
   "source": [
    "# plot several lines on the same figure\n",
    "\n",
    "# plot x vs y3, x vs 2*y3, x vs -2*y3\n",
    "\n",
    "fig,ax = plt.subplots()\n",
    "ax.plot(x, y3, label = '$x^2$')\n",
    "ax.plot(x, 2*y3, label = '$2y_3$')\n",
    "ax.plot(x, -2*y3, label = '$-2y_3$')\n",
    "\n",
    "ax.set_xlabel('$x$')\n",
    "ax.set_ylabel('$y$')\n",
    "plt.legend(); # the semicolon just suppresses ```<matplotlib.legend.Legend ...>``` text from appearing in the notebook."
   ]
  },
  {
   "cell_type": "markdown",
   "metadata": {},
   "source": [
    "Plot the discharge data from our dataframe."
   ]
  },
  {
   "cell_type": "code",
   "execution_count": 47,
   "metadata": {},
   "outputs": [
    {
     "data": {
      "image/png": "[encoded data removed]",
      "text/plain": [
       "<Figure size 640x480 with 1 Axes>"
      ]
     },
     "metadata": {},
     "output_type": "display_data"
    }
   ],
   "source": [
    "fig, ax1 = plt.subplots()\n",
    "ax1.plot(Q15_df['DateTime'], Q15_df['Q_cfs'],alpha=1)\n",
    "ax1.set_ylabel('$Q~\\mathrm{[ft^3/s]}$')\n",
    "ax1.set_xlabel('Date and Time [EDT]');"
   ]
  },
  {
   "cell_type": "markdown",
   "metadata": {
    "id": "TO2upjrNOppL"
   },
   "source": [
    "## Define a function"
   ]
  },
  {
   "cell_type": "markdown",
   "metadata": {
    "id": "8Hc0wTXZOppL"
   },
   "source": [
    "Functions are nice ways to operate on multiple arguments, without globally creating or storing variables. These arguments are not stored as variables outside of the function.\n",
    "\n",
    "Let's define a very simple function for calculating the volume flow rate of water in a river. The volume flow rate tells you the volume of water flowing past a particular point in the river every second; e.g., 500 cubic feet per second. We typically refer to this important quantity with the variable, $Q$. One way in which we can define $Q$ is as the product of the average velocity of water in the river (how fast it's moving) multiplied by the cross sectional flow area (the area of water made by a 2D plane that intersection the bottom of the river at a perpendicular angle through which the water is flowing):\n",
    "\n",
    "$$\\text{Discharge = Velocity}~ x~ \\text{Area} $$ \n",
    "\n",
    "or\n",
    "\n",
    "$$ Q = VA$$\n",
    "\n",
    "Now let's define a function that will give us $Q$ if we give it $A$ and $V$. After the first line of defining a function and its arguments, an indent is used to keep everything in line within the function. In the last line where it says \"return\", include a space following \"return\" and then the operation. Then run the function with its arguments in the same line as the print() statement. You can define the variables in line with the print statement or in the lines before calling the function."
   ]
  },
  {
   "cell_type": "code",
   "execution_count": 62,
   "metadata": {
    "id": "bZjfsVeoOppL"
   },
   "outputs": [
    {
     "name": "stdout",
     "output_type": "stream",
     "text": [
      "Discharge of the river = 464.94 ft^3/s.\n",
      "Discharge of the river = 465 cfs.\n",
      "Discharge of the river = 464.9 cfs. Double this discharge would be 929.9 cfs.\n"
     ]
    }
   ],
   "source": [
    "def discharge(A,V):\n",
    "    return V*A\n",
    "\n",
    "# now use the function\n",
    "A_1 = 232.47 # ft^2\n",
    "V_1 = 2 # ft/s\n",
    "\n",
    "# let's try some different types of print statements:\n",
    "print('Discharge of the river =',discharge(A_1,V_1), 'ft^3/s.') # this is a simple print statement and works just fine!\n",
    "print('Discharge of the river = {:.0f} cfs.'.format(discharge(A_1,V_1))) # alternate method for placing all printed variables in a list at the end\n",
    "print(f'Discharge of the river = {discharge(A_1,V_1):.1f} cfs. Double this discharge would be {2*discharge(A_1,V_1):.1f} cfs.') # alternate method where you use f before ' then put the print variables directly in {}"
   ]
  },
  {
   "cell_type": "markdown",
   "metadata": {
    "id": "TavkxzldOppN"
   },
   "source": [
    "## Solving an implicit equation: Manning's Equation.\n",
    "\n",
    "We will use a defined function + ```fsolve``` to solve Manning's equation for normal depth in a trapezoidal channel:\n",
    "\n",
    "$$ Q=\\frac{c_0}{n}AR_h^{2/3}S^{1/2} $$\n",
    "\n",
    "where,\n",
    "\n",
    "$$ R_h = A/P_w $$\n",
    "\n",
    "Goal: solve for depth $y$ given discharge $Q$, slope $S$, roughness coefficient $n$, unit system coefficient $c_0$, bottom width $b$, and side slope $m$.\n",
    "\n",
    "We will use the ```fsolve``` function in scipy: ```f_solution = fsolve(defname, guess, args=(list))```\n",
    "\n",
    "First, let's define the equation and set it up so that the function should return ```0``` if we get the right depth (i.e., subtract one side of the equation from the other). This is due to ```fsolve``` being a root solver. We need to make sure the variable we are solving for, $y$, is first in the function's arguments. Then, when we call all other arguments of the function in the call of fsolve. We will also need to have a starting guess at the solution."
   ]
  },
  {
   "cell_type": "code",
   "execution_count": 63,
   "metadata": {
    "id": "rCxYF7NnOppN"
   },
   "outputs": [],
   "source": [
    "def manning_normal_depth(y,Q,b,S,m,n,c0):\n",
    "    A = (b + m*y)*y\n",
    "    Pw = b+2*y*((1+m**2)**(1/2))\n",
    "    Rh = A/Pw\n",
    "    return (c0/n)*A*Rh**(2/3)*S**(1/2) - Q"
   ]
  },
  {
   "cell_type": "code",
   "execution_count": 64,
   "metadata": {},
   "outputs": [
    {
     "name": "stdout",
     "output_type": "stream",
     "text": [
      "The normal depth, y0 = [1.0416] m\n"
     ]
    }
   ],
   "source": [
    "# Channel conditions (inputs)\n",
    "\n",
    "Q = 20 # m^3/s\n",
    "S = 0.02 # m/m\n",
    "n = 0.030\n",
    "c0 = 1\n",
    "b = 5 # m\n",
    "m = 0\n",
    "\n",
    "# need a guess value for normal depth, y\n",
    "\n",
    "y0guess = 1.5\n",
    "\n",
    "# now use fsolve to find the normal depth, y\n",
    "\n",
    "y0_soln = fsolve(manning_normal_depth, y0guess, args=(Q,b,S,m,n,c0))\n",
    "\n",
    "print('The normal depth, y0 =', np.round(y0_soln, 4), 'm')"
   ]
  }
 ],
 "metadata": {
  "anaconda-cloud": {},
  "colab": {
   "name": "00_Intro_Python_JupyterNotebooks.ipynb",
   "provenance": []
  },
  "kernelspec": {
   "display_name": "new_env",
   "language": "python",
   "name": "python3"
  },
  "language_info": {
   "codemirror_mode": {
    "name": "ipython",
    "version": 3
   },
   "file_extension": ".py",
   "mimetype": "text/x-python",
   "name": "python",
   "nbconvert_exporter": "python",
   "pygments_lexer": "ipython3",
   "version": "3.9.21"
  }
 },
 "nbformat": 4,
 "nbformat_minor": 4
}
