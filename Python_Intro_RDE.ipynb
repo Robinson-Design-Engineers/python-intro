{
 "cells": [
  {
   "cell_type": "markdown",
   "metadata": {},
   "source": [
    "# Starting out with scientific Python and notebooks\n",
    "Created by Kyle Strom, edited by Sam Kraus. For further/expanded practice, see here: https://github.com/kstrm/Starting-out-with-python.git. \n",
    "<br>\n",
    "<br>\n",
    "\n",
    "Note: [ChatGPT](https://chatgpt.com/) and other AI can be very, very useful when troubleshooting code or looking up specific syntax. They are good tools, not necessarily replacements."
   ]
  },
  {
   "cell_type": "markdown",
   "metadata": {
    "id": "RMV-Lp3vOpo4"
   },
   "source": [
    "## Cell types\n",
    "\n",
    "There are two basic cell types in notebooks\n",
    "1. Markdown cells, and\n",
    "2. Code cells\n",
    "\n",
    "### Markdown Cells \n",
    "\n",
    "- Good for writting. Can use standard Markdown formatting (Google if you don't know how to use Markdown)\n",
    "- Can use LaTeX formatting for equation (the notebook uses MathJax)\n",
    "\n",
    "For example. Here is an equation inline: $F = ma$. And, here's an equation in display form:\n",
    "\n",
    "$$ E = \\frac{V^2}{2g}+y $$\n",
    "\n",
    "You can also use standard LaTex \"equation environment\" in:\n",
    "\n",
    "\\begin{equation}\n",
    "\\frac{\\partial (AC)}{\\partial t}+\\frac{\\partial (AUC)}{\\partial x}=\\frac{\\partial}{\\partial x}\\left(AD\\frac{\\partial C}{\\partial x}\\right) +  b \\left(E_b - D_b \\right)\n",
    "\\end{equation}\n",
    "\n",
    "Equation reference in markdown is not yet available."
   ]
  },
  {
   "cell_type": "markdown",
   "metadata": {},
   "source": [
    "You can view the \"raw guts\" of a Markdown cell by double-clicking them. Try it with the above cell^. When looking at math or equations in Markdown, \"$$\" can be used to bracket text that will be in math format. This is very similar, if not the same, as LaTeX format."
   ]
  },
  {
   "cell_type": "markdown",
   "metadata": {
    "id": "wvZ3AvCmOpo4"
   },
   "source": [
    "### Code Cells\n",
    "\n",
    "\"Code\" cell block are where the computations are actually performed. Before we get going with code, we'll need to load a few libraries."
   ]
  },
  {
   "cell_type": "markdown",
   "metadata": {
    "id": "UyZgszEC7LT-"
   },
   "source": [
    "## Loads: different ways to get access to what you need\n",
    "\n",
    "Try typing 5+5 and executing the cell, then type \"pi\" or \"sin(pi)\" and execute. (Hint: pi and sin(pi) will not work these two cells)"
   ]
  },
  {
   "cell_type": "code",
   "execution_count": null,
   "metadata": {},
   "outputs": [],
   "source": []
  },
  {
   "cell_type": "code",
   "execution_count": null,
   "metadata": {},
   "outputs": [],
   "source": [
    "pi"
   ]
  },
  {
   "cell_type": "code",
   "execution_count": null,
   "metadata": {},
   "outputs": [],
   "source": []
  },
  {
   "cell_type": "markdown",
   "metadata": {},
   "source": [
    "As you can see, ```pi``` or ```sin``` are not available for use in standard base Python. That is, ```pi``` and ```sin``` don't necessarily mean anything on their own. They are just letters that you might use to define a variable.  To use them as mathematical operators you need to import libraries where these are specifically defined operations and values. The most common library for most scientific calculations is called [NumPy](https://numpy.org/). We need to load this to get access to common mathematical operations and other backbone components of scientific computing. Python has some built-in operators like ```+, -, /, *, **```. Most other things require something like NumPy.\n",
    "\n",
    "There are different ways to load NumPy and other libraries to gain access. Here are some examples:\n",
    "\n",
    "### Method 1a"
   ]
  },
  {
   "cell_type": "code",
   "execution_count": null,
   "metadata": {},
   "outputs": [],
   "source": [
    "import numpy as np\n",
    "\n",
    "# now we can try taking the sin of pi by using np to refer to the numpy library and .pi and .sin as \n",
    "# the attributes of numpy called pi and sin\n",
    "\n",
    "np.sin(np.pi)"
   ]
  },
  {
   "cell_type": "markdown",
   "metadata": {},
   "source": [
    "### Method 1b\n",
    "Here we load all of numpy as np, but then add some stuff directly so that we don't need the np. This is more of a personal preference choice. You can begin with \"np.\" each time too."
   ]
  },
  {
   "cell_type": "code",
   "execution_count": null,
   "metadata": {
    "id": "yhSiWvla7Qpg"
   },
   "outputs": [],
   "source": [
    "import numpy as np\n",
    "from numpy import pi, sin\n",
    "\n",
    "# type just sin(pi) below:"
   ]
  },
  {
   "cell_type": "markdown",
   "metadata": {},
   "source": [
    "### Method 2 (the WRONG but easier way)\n",
    "This method is okay for starting out. However, its good to move away from it in time. You can use ```%pylab``` to imports a bunch of stuff from numpy and matplotlib and make it easily accessible."
   ]
  },
  {
   "cell_type": "code",
   "execution_count": null,
   "metadata": {
    "id": "M-0Q1L7dOpo5"
   },
   "outputs": [],
   "source": [
    "# the bulk bad form to do loads\n",
    "%pylab inline"
   ]
  },
  {
   "cell_type": "markdown",
   "metadata": {},
   "source": [
    "### Other loads"
   ]
  },
  {
   "cell_type": "code",
   "execution_count": null,
   "metadata": {},
   "outputs": [],
   "source": [
    "# for interactive plotting we use the following:\n",
    "# %matplotlib widget  # Will not work with Google Colab\n",
    "from matplotlib import pyplot as plt # should work in Jupyter notebooks whether in Colab or not\n",
    "\n",
    "# %config InlineBackend.figure_format='retina' # uncomment if you have a retina display... comment out when printing to pdf\n",
    "import pandas as pd # will need for dataframes\n",
    "from scipy.optimize import fsolve # will need for solver"
   ]
  },
  {
   "cell_type": "markdown",
   "metadata": {},
   "source": [
    "## Variables and foundational types of data\n",
    "\n",
    "### Variables\n",
    "\n",
    "Variables are short hand names for different types of data that we can refer to later. Once you define a variable in a Jupyter notebook cell, it will carry its definition through the rest of the notebook. However, this does not hold true WITHIN function (more on that later)."
   ]
  },
  {
   "cell_type": "code",
   "execution_count": null,
   "metadata": {},
   "outputs": [],
   "source": [
    "var = 8\n",
    "var"
   ]
  },
  {
   "cell_type": "markdown",
   "metadata": {},
   "source": [
    "### Strings"
   ]
  },
  {
   "cell_type": "code",
   "execution_count": null,
   "metadata": {},
   "outputs": [],
   "source": [
    "var = 'Hello world'\n",
    "var"
   ]
  },
  {
   "cell_type": "markdown",
   "metadata": {},
   "source": [
    "### Floats and integers"
   ]
  },
  {
   "cell_type": "markdown",
   "metadata": {},
   "source": [
    "what if ```var = 1```?"
   ]
  },
  {
   "cell_type": "code",
   "execution_count": null,
   "metadata": {},
   "outputs": [],
   "source": []
  },
  {
   "cell_type": "markdown",
   "metadata": {},
   "source": [
    "Now try ```var = 1.5```"
   ]
  },
  {
   "cell_type": "code",
   "execution_count": null,
   "metadata": {},
   "outputs": [],
   "source": []
  },
  {
   "cell_type": "markdown",
   "metadata": {},
   "source": [
    "What happens when ```var = 1.```?"
   ]
  },
  {
   "cell_type": "code",
   "execution_count": null,
   "metadata": {},
   "outputs": [],
   "source": []
  },
  {
   "cell_type": "markdown",
   "metadata": {},
   "source": [
    "## Commenting\n",
    "\n",
    "Notice what the ```#``` mark does in a code block"
   ]
  },
  {
   "cell_type": "code",
   "execution_count": null,
   "metadata": {},
   "outputs": [],
   "source": [
    "2*var"
   ]
  },
  {
   "cell_type": "code",
   "execution_count": null,
   "metadata": {},
   "outputs": [],
   "source": [
    "# 2*var"
   ]
  },
  {
   "cell_type": "markdown",
   "metadata": {},
   "source": [
    "You can toggle a line of code off any on by placing or removing ```#``` in front of the code. The keyboard shortcut for this in Mac is ```cmd+/``` and in Windows is ```ctrl+/```. Comments can be in the same line as code, but anything following the \"#\" will be comment and not run as code."
   ]
  },
  {
   "cell_type": "markdown",
   "metadata": {
    "id": "hl2EHHtiOpo8"
   },
   "source": [
    "## Arrays\n",
    "\n",
    "Arrays are very generic containers for numbers and strings. You can think of an array as a row or column from a spreadsheet (1D), the rows and columns of a spreadsheet (2D), or any number of multidimentional object with arrays within arrays within arrays. Arrays provide the backbone for most scientific operations. Below we will work with a basic one dimensional arrays. For more on Numpy arrays see - [A Visual Intro to NumPy and Data Representation](https://jalammar.github.io/visual-numpy/).\n",
    "<br>\n",
    "<br>\n",
    "REMEMBER: arrays in Python start counting from zero, not one!"
   ]
  },
  {
   "cell_type": "code",
   "execution_count": null,
   "metadata": {},
   "outputs": [],
   "source": [
    "# let's define a variable \"N\" as 10:\n",
    "N = 10"
   ]
  },
  {
   "cell_type": "code",
   "execution_count": null,
   "metadata": {},
   "outputs": [],
   "source": [
    "x = np.linspace(1,10,N) # np.linspace() produces an array with N number of elements evenly spaced from 1 to 10... float points\n",
    "x"
   ]
  },
  {
   "cell_type": "code",
   "execution_count": null,
   "metadata": {},
   "outputs": [],
   "source": [
    "x = np.zeros(N) # np.zeros() produces an array with N elements... floating point... all zeros\n",
    "x"
   ]
  },
  {
   "cell_type": "code",
   "execution_count": null,
   "metadata": {},
   "outputs": [],
   "source": [
    "x = np.arange(N) # np.arange() produces an array with N elements... integers by default\n",
    "x"
   ]
  },
  {
   "cell_type": "code",
   "execution_count": null,
   "metadata": {},
   "outputs": [],
   "source": [
    "x = np.arange(0,20,2) # np.arange() produces an array with N elements... at a specified interval \n",
    "x"
   ]
  },
  {
   "cell_type": "markdown",
   "metadata": {},
   "source": [
    "Now let's try indexing the arrays. Indices are not values in the array, but instead their positions. When indexing you can use commas between indices, or index a range with a colon. When indexing a range, the first index is inclusive and the second index is exclusive."
   ]
  },
  {
   "cell_type": "code",
   "execution_count": null,
   "metadata": {},
   "outputs": [],
   "source": [
    "x[1:]"
   ]
  },
  {
   "cell_type": "code",
   "execution_count": null,
   "metadata": {},
   "outputs": [],
   "source": [
    "x[:-1]"
   ]
  },
  {
   "cell_type": "code",
   "execution_count": null,
   "metadata": {},
   "outputs": [],
   "source": [
    "x[2:5]"
   ]
  },
  {
   "cell_type": "code",
   "execution_count": null,
   "metadata": {},
   "outputs": [],
   "source": [
    "dx = x[1:]-x[:-1] # note... this will produce an array with 9 points made up of the difference x[i+1]-x[i]\n",
    "dx"
   ]
  },
  {
   "cell_type": "markdown",
   "metadata": {},
   "source": [
    "Now your turn to try:"
   ]
  },
  {
   "cell_type": "code",
   "execution_count": null,
   "metadata": {},
   "outputs": [],
   "source": [
    "# 100 pt array that ranges from 0 to 10*pi in even increments (float)\n",
    "x = \n",
    "print('x = \\n', x)"
   ]
  },
  {
   "cell_type": "code",
   "execution_count": null,
   "metadata": {
    "id": "qouJKTu8Opo8"
   },
   "outputs": [],
   "source": [
    "# 100 pt array of integers ranging from 0 to 100 minus 1\n",
    "xint =\n",
    "print('xint = \\n', xint)"
   ]
  },
  {
   "cell_type": "code",
   "execution_count": null,
   "metadata": {
    "id": "9GHwf_9vOpo-"
   },
   "outputs": [],
   "source": [
    "# returns the x values from spots 0, 1, 2 in the array\n",
    "x[]"
   ]
  },
  {
   "cell_type": "code",
   "execution_count": null,
   "metadata": {
    "id": "RwAnwwnPOppA"
   },
   "outputs": [],
   "source": [
    "# returns the xint values from spots 0, 1, 2 in the array\n",
    "xint[]"
   ]
  },
  {
   "cell_type": "code",
   "execution_count": null,
   "metadata": {
    "id": "8ppiqvY1OppC"
   },
   "outputs": [],
   "source": [
    "# create y1 as being the sin of x\n",
    "\n",
    "# create y2 as y1 * xint\n",
    "\n",
    "# create y3 as x^2: Note: Python syntax requires \"**\" for exponents, rather than \"^\".\n"
   ]
  },
  {
   "cell_type": "markdown",
   "metadata": {},
   "source": [
    "You will notice in this notebook that variations of ```print()```, ```display()```, and simply typing the variable on the cell's last line are used to print the variable's value(s). \n",
    "- ```display()``` is used primarily for dataframes and can ensure the dataframes will print with column names in a tabular format.\n",
    "- ```print()``` will pretty much print anything. \n",
    "- Simply typing a variable name on the last line and executing a code cell will also display a variable's value(s), but it has to be on the cell's last line. ```print()``` and ```display()``` do not have to be on the last line of the cell."
   ]
  },
  {
   "cell_type": "markdown",
   "metadata": {},
   "source": [
    "## For Loops\n",
    "\n",
    "For loops take a defined set of things, iterates through them, names each iteration, each thing of the set as a variable, then opearates the same lines of code for each iteration. Usually this is iterating through an array or a range, naming each iteration as ```i```, then operating on ```i```. Or ```i``` could be an index in the range of an array's length. This can vary widely. After the first line of a for loop, an indent is used to keep everything in line within the loop. More can be found [here](https://www.w3schools.com/python/python_for_loops.asp)."
   ]
  },
  {
   "cell_type": "code",
   "execution_count": null,
   "metadata": {},
   "outputs": [],
   "source": [
    "# create a sequence of something to iterate through:\n",
    "print('We will iterate through: ', range(0,N))"
   ]
  },
  {
   "cell_type": "code",
   "execution_count": null,
   "metadata": {},
   "outputs": [],
   "source": [
    "# a basic for loop structure \n",
    "\n",
    "for i in range(0,N): # note... the loop will stop one index before N since i would be out of range if i = N\n",
    "    print(i)"
   ]
  },
  {
   "cell_type": "code",
   "execution_count": null,
   "metadata": {},
   "outputs": [],
   "source": [
    "# perform a simple operation each loop iteration\n",
    "x_new = np.zeros(N)\n",
    "\n",
    "for i in range(0,N):\n",
    "    x_new[i] = i*2\n",
    "\n",
    "x_new"
   ]
  },
  {
   "cell_type": "markdown",
   "metadata": {},
   "source": [
    "## Dataframes"
   ]
  },
  {
   "cell_type": "markdown",
   "metadata": {},
   "source": [
    "Dataframes are large multi-dimensional arrays of different datatypes, with indexed rows and named columns. Let's make a [Pandas](https://pandas.pydata.org/) dataframe from scratch - as opposed to loading it in from a csv file."
   ]
  },
  {
   "cell_type": "code",
   "execution_count": null,
   "metadata": {},
   "outputs": [],
   "source": [
    "data = {\n",
    "    'Org': ['USGS'] * 5,\n",
    "    'Gage': [3171000] * 5,\n",
    "    'Date': ['2021-06-24'] * 5,\n",
    "    'Time': ['4:15', '4:30', '4:45', '5:00', '5:15'],\n",
    "    'Zone': ['EDT'] * 5,\n",
    "    'Q_cfs': [1000, 1300, 2000, 1500, 1200],\n",
    "    'Type': ['A'] * 5,\n",
    "    'DateTime': ['2021-06-24 4:15', '2021-06-24 4:30', '2021-06-24 4:45', '2021-06-24 5:00', '2021-06-24 5:15']\n",
    "}\n",
    "\n",
    "Q15_df = pd.DataFrame(data)\n",
    "\n",
    "Q15_df"
   ]
  },
  {
   "cell_type": "markdown",
   "metadata": {},
   "source": [
    "Let's take a look at the data type of each column:"
   ]
  },
  {
   "cell_type": "code",
   "execution_count": null,
   "metadata": {},
   "outputs": [],
   "source": [
    "Q15_df.dtypes"
   ]
  },
  {
   "cell_type": "markdown",
   "metadata": {},
   "source": [
    "Note that the DateTime column is just a text object. It would be great if we could change this to a date-time format."
   ]
  },
  {
   "cell_type": "code",
   "execution_count": null,
   "metadata": {},
   "outputs": [],
   "source": [
    "Q15_df['DateTime'] = pd.to_datetime(Q15_df['DateTime'], format='%Y-%m-%d %H:%M')\n",
    "display(Q15_df)"
   ]
  },
  {
   "cell_type": "code",
   "execution_count": null,
   "metadata": {},
   "outputs": [],
   "source": [
    "Q15_df.dtypes"
   ]
  },
  {
   "cell_type": "markdown",
   "metadata": {},
   "source": [
    "Now we have a unique date and time associated with each discharge value."
   ]
  },
  {
   "cell_type": "markdown",
   "metadata": {
    "id": "HJaBYF0wOppE"
   },
   "source": [
    "## Plotting\n",
    "\n",
    "Let's plot some data we created earlier:"
   ]
  },
  {
   "cell_type": "code",
   "execution_count": null,
   "metadata": {
    "id": "zguTk7f3OppE"
   },
   "outputs": [],
   "source": [
    "# plot y1 vs x\n",
    "\n",
    "fig,ax = plt.subplots()\n",
    "ax.plot(x,y1)\n",
    "ax.set_xlabel('x')\n",
    "ax.set_ylabel('y')"
   ]
  },
  {
   "cell_type": "markdown",
   "metadata": {},
   "source": [
    "Now try plotting the following based on each cell's comments:"
   ]
  },
  {
   "cell_type": "code",
   "execution_count": null,
   "metadata": {
    "id": "b_Cjxqb4OppH"
   },
   "outputs": [],
   "source": [
    "# plot y2 vs x\n"
   ]
  },
  {
   "cell_type": "code",
   "execution_count": null,
   "metadata": {
    "id": "OYUNI8hnOppJ"
   },
   "outputs": [],
   "source": [
    "# plot several lines on the same figure\n",
    "\n",
    "# plot x vs y3, x vs 2*y3, x vs -2*y3\n",
    "\n",
    "fig,ax = plt.subplots()\n",
    "ax.plot(x, y3, label = '$x^2$')\n",
    "ax.plot()\n",
    "ax.plot()\n",
    "\n",
    "ax.set_xlabel('$x$')\n",
    "ax.set_ylabel('$y$')\n",
    "plt.legend(); # the semicolon just suppresses ```<matplotlib.legend.Legend ...>``` text from appearing in the notebook."
   ]
  },
  {
   "cell_type": "markdown",
   "metadata": {},
   "source": [
    "Plot the discharge data from our dataframe."
   ]
  },
  {
   "cell_type": "code",
   "execution_count": null,
   "metadata": {},
   "outputs": [],
   "source": [
    "fig, ax1 = plt.subplots()\n",
    "ax1.plot(Q15_df['DateTime'], Q15_df['Q_cfs'],alpha=1)\n",
    "ax1.set_ylabel('$Q~\\mathrm{[ft^3/s]}$')\n",
    "ax1.set_xlabel('Date and Time [EDT]');"
   ]
  },
  {
   "cell_type": "markdown",
   "metadata": {
    "id": "TO2upjrNOppL"
   },
   "source": [
    "## Define a function"
   ]
  },
  {
   "cell_type": "markdown",
   "metadata": {
    "id": "8Hc0wTXZOppL"
   },
   "source": [
    "Functions are nice ways to operate on multiple arguments, without globally creating or storing variables. These arguments are not stored as variables outside of the function.\n",
    "\n",
    "Let's define a very simple function for calculating the volume flow rate of water in a river. The volume flow rate tells you the volume of water flowing past a particular point in the river every second; e.g., 500 cubic feet per second. We typically refer to this important quantity with the variable, $Q$. One way in which we can define $Q$ is as the product of the average velocity of water in the river (how fast it's moving) multiplied by the cross sectional flow area (the area of water made by a 2D plane that intersection the bottom of the river at a perpendicular angle through which the water is flowing):\n",
    "\n",
    "$$\\text{Discharge = Velocity}~ x~ \\text{Area} $$ \n",
    "\n",
    "or\n",
    "\n",
    "$$ Q = VA$$\n",
    "\n",
    "Now let's define a function that will give us $Q$ if we give it $A$ and $V$. After the first line of defining a function and its arguments, an indent is used to keep everything in line within the function. In the last line where it says \"return\", include a space following \"return\" and then the operation. Then run the function with its arguments in the same line as the print() statement. You can define the variables in line with the print statement or in the lines before calling the function."
   ]
  },
  {
   "cell_type": "code",
   "execution_count": null,
   "metadata": {
    "id": "bZjfsVeoOppL"
   },
   "outputs": [],
   "source": [
    "def discharge(A,V):\n",
    "    return\n",
    "\n",
    "# now use the function\n",
    "\n",
    "\n",
    "\n",
    "print('Discharge of the river [cubic feet per sec]=',discharge())"
   ]
  },
  {
   "cell_type": "markdown",
   "metadata": {
    "id": "TavkxzldOppN"
   },
   "source": [
    "## Solving an implicit equation: Manning's Equation.\n",
    "\n",
    "We will use a defined function + ```fsolve``` to solve Manning's equation for normal depth in a trapezoidal channel:\n",
    "\n",
    "$$ Q=\\frac{c_0}{n}AR_h^{2/3}S^{1/2} $$\n",
    "\n",
    "where,\n",
    "\n",
    "$$ R_h = A/P_w $$\n",
    "\n",
    "Goal: solve for depth $y$ given discharge $Q$, slope $S$, roughness coefficient $n$, unit system coefficient $c_0$, bottom width $b$, and side slope $m$.\n",
    "\n",
    "We will use the ```fsolve``` function in scipy: ```f_solution = fsolve(defname, guess, args=(list))```\n",
    "\n",
    "First, let's define the equation and set it up so that the function should return ```0``` if we get the right depth (i.e., subtract one side of the equation from the other). This is due to ```fsolve``` being a root solver. We need to make sure the variable we are solving for, $y$, is first in the function's arguments. Then, when we call all other arguments of the function in the call of fsolve. We will also need to have a starting guess at the solution."
   ]
  },
  {
   "cell_type": "code",
   "execution_count": null,
   "metadata": {
    "id": "rCxYF7NnOppN"
   },
   "outputs": [],
   "source": [
    "def manning_normal_depth(y,Q,b,S,m,n,c0):\n",
    "    A = (b + m*y)*y\n",
    "    Pw = b+2*y*((1+m**2)**(1/2))\n",
    "    Rh = A/Pw\n",
    "    return (c0/n)*A*Rh**(2/3)*S**(1/2) - Q"
   ]
  },
  {
   "cell_type": "code",
   "execution_count": null,
   "metadata": {},
   "outputs": [],
   "source": [
    "# Channel conditions (inputs)\n",
    "\n",
    "Q = 20 # m^3/s\n",
    "S = 0.02 # m/m\n",
    "n = 0.030\n",
    "c0 = 1\n",
    "b = 5 # m\n",
    "m = 0\n",
    "\n",
    "# need a guess value for normal depth, y\n",
    "\n",
    "y0guess = 1.5\n",
    "\n",
    "# now use fsolve to find the normal depth, y\n",
    "\n",
    "y0_soln = fsolve(manning_normal_depth, y0guess, args=(Q,b,S,m,n,c0))\n",
    "\n",
    "print('The normal depth, y0 =', np.round(y0_soln, 4), 'm')"
   ]
  }
 ],
 "metadata": {
  "anaconda-cloud": {},
  "colab": {
   "name": "00_Intro_Python_JupyterNotebooks.ipynb",
   "provenance": []
  },
  "kernelspec": {
   "display_name": "new_env",
   "language": "python",
   "name": "python3"
  },
  "language_info": {
   "codemirror_mode": {
    "name": "ipython",
    "version": 3
   },
   "file_extension": ".py",
   "mimetype": "text/x-python",
   "name": "python",
   "nbconvert_exporter": "python",
   "pygments_lexer": "ipython3",
   "version": "3.9.21"
  }
 },
 "nbformat": 4,
 "nbformat_minor": 4
}
